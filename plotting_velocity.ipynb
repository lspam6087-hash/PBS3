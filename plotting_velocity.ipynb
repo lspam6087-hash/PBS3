{
 "cells": [
  {
   "cell_type": "code",
   "execution_count": 1,
   "id": "67337d32",
   "metadata": {},
   "outputs": [],
   "source": [
    "import numpy as np\n",
    "import matplotlib.pyplot as plt\n",
    "import pandas as pd"
   ]
  },
  {
   "cell_type": "code",
   "execution_count": null,
   "id": "126155bc",
   "metadata": {},
   "outputs": [
    {
     "ename": "NameError",
     "evalue": "name 'pd' is not defined",
     "output_type": "error",
     "traceback": [
      "\u001b[31m---------------------------------------------------------------------------\u001b[39m",
      "\u001b[31mNameError\u001b[39m                                 Traceback (most recent call last)",
      "\u001b[36mCell\u001b[39m\u001b[36m \u001b[39m\u001b[32mIn[1]\u001b[39m\u001b[32m, line 3\u001b[39m\n\u001b[32m      1\u001b[39m \u001b[38;5;66;03m# --- load data ---\u001b[39;00m\n\u001b[32m      2\u001b[39m path = \u001b[33m\"\u001b[39m\u001b[33mdata/vel_histogramB3.csv\u001b[39m\u001b[33m\"\u001b[39m \n\u001b[32m----> \u001b[39m\u001b[32m3\u001b[39m df = \u001b[43mpd\u001b[49m.read_csv(path, comment=\u001b[33m\"\u001b[39m\u001b[33m#\u001b[39m\u001b[33m\"\u001b[39m, skipinitialspace=\u001b[38;5;28;01mTrue\u001b[39;00m)\n\u001b[32m      5\u001b[39m \u001b[38;5;66;03m# v = df[\"v_center\"].to_numpy(float)\u001b[39;00m\n\u001b[32m      6\u001b[39m \n\u001b[32m      7\u001b[39m \u001b[38;5;66;03m# prefer provided PDF; otherwise convert counts -> PDF\u001b[39;00m\n\u001b[32m      8\u001b[39m \u001b[38;5;28;01mif\u001b[39;00m \u001b[33m\"\u001b[39m\u001b[33mdensity\u001b[39m\u001b[33m\"\u001b[39m \u001b[38;5;129;01min\u001b[39;00m df.columns:\n",
      "\u001b[31mNameError\u001b[39m: name 'pd' is not defined"
     ]
    }
   ],
   "source": [
    "# --- load data ---\n",
    "path = \"data/vel_histogramB3.csv\" \n",
    "df = pd.read_csv(path, comment=\"#\", skipinitialspace=True)\n",
    "\n",
    "# v = df[\"v_center\"].to_numpy(float)\n",
    "\n",
    "# prefer provided PDF; otherwise convert counts -> PDF\n",
    "if \"density\" in df.columns:\n",
    "    density = df[\"density\"].to_numpy(float)\n",
    "else:\n",
    "    count = df[\"count\"].to_numpy(float)\n",
    "    binw = np.median(np.diff(v))\n",
    "    density = count / (count.sum() * binw)\n",
    "\n",
    "# clean + normalize by area (robust to rounding)\n",
    "mask = np.isfinite(v) & np.isfinite(density) & (density >= 0)\n",
    "v = v[mask]\n",
    "density = density[mask]\n",
    "density /= np.trapezoid(density, v)\n",
    "\n",
    "# --- fit MB (m=kB=1) ---\n",
    "m = 1.0\n",
    "kB = 1.0\n",
    "v2 = np.trapezoid(density * v**2, v)  # <v^2>\n",
    "\n",
    "T3 = m * v2 / (3 * kB)  # 3D\n",
    "T2 = m * v2 / (2 * kB)  # 2D (for reference)\n",
    "\n",
    "def mb_3d(x, m, kB, T):\n",
    "    return ((m/(2*np.pi*kB*T))**1.5) * 4*np.pi * x**2 * np.exp(-m*x**2/(2*kB*T))\n",
    "\n",
    "def mb_2d(x, m, kB, T):\n",
    "    return (m/(kB*T)) * x * np.exp(-m*x**2/(2*kB*T))\n",
    "\n",
    "mb3 = mb_2d(v, m, kB, T3); mb3 /= np.trapezoid(mb3, v)\n",
    "# mb2 = mb_2d(v, m, kB, T2); mb2 /= np.trapz(mb2, v)\n",
    "\n",
    "# --- plot ---\n",
    "plt.figure()\n",
    "plt.plot(v, density, label=\"Velocity Distribution\")\n",
    "plt.plot(v, mb3, label=f\"Maxwell-Boltzmann Distribution\")\n",
    "# plt.plot(v, mb2, label=f\"MB 2D (T≈{T2:.2f})\")\n",
    "plt.xlabel(\"Velocity center\")\n",
    "plt.ylabel(\"Probability density\")\n",
    "plt.xlim(0,10)\n",
    "plt.grid(True)\n",
    "plt.legend()\n",
    "plt.tight_layout()\n",
    "plt.savefig(\"Figures/Velocity_distribution_B3.png\")\n",
    "plt.show()"
   ]
  },
  {
   "cell_type": "code",
   "execution_count": null,
   "id": "ba811509",
   "metadata": {},
   "outputs": [
    {
     "name": "stderr",
     "output_type": "stream",
     "text": [
      "C:\\Users\\lukas\\AppData\\Local\\Temp\\ipykernel_10904\\1069517017.py:4: RuntimeWarning: divide by zero encountered in divide\n",
      "  chi = (1/N_A) * (np.log((1-phi_A)/phi_A))/(1-2*phi_A)\n",
      "C:\\Users\\lukas\\AppData\\Local\\Temp\\ipykernel_10904\\1069517017.py:4: RuntimeWarning: divide by zero encountered in log\n",
      "  chi = (1/N_A) * (np.log((1-phi_A)/phi_A))/(1-2*phi_A)\n",
      "C:\\Users\\lukas\\AppData\\Local\\Temp\\ipykernel_10904\\1069517017.py:4: RuntimeWarning: invalid value encountered in divide\n",
      "  chi = (1/N_A) * (np.log((1-phi_A)/phi_A))/(1-2*phi_A)\n"
     ]
    },
    {
     "data": {
      "image/png": "[encoded data removed]",
      "text/plain": [
       "<Figure size 640x480 with 1 Axes>"
      ]
     },
     "metadata": {},
     "output_type": "display_data"
    }
   ],
   "source": [
    "N_A = 1\n",
    "phi_A = np.linspace(0,1,1001)\n",
    "\n",
    "chi = (1/N_A) * (np.log((1-phi_A)/phi_A))/(1-2*phi_A)\n",
    "\n",
    "plt.figure()\n",
    "plt.plot(phi_A, chi)\n",
    "\n",
    "plt.show()"
   ]
  }
 ],
 "metadata": {
  "kernelspec": {
   "display_name": "Python 3",
   "language": "python",
   "name": "python3"
  },
  "language_info": {
   "codemirror_mode": {
    "name": "ipython",
    "version": 3
   },
   "file_extension": ".py",
   "mimetype": "text/x-python",
   "name": "python",
   "nbconvert_exporter": "python",
   "pygments_lexer": "ipython3",
   "version": "3.12.10"
  }
 },
 "nbformat": 4,
 "nbformat_minor": 5
}
